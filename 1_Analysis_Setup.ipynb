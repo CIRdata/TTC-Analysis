{
 "cells": [
  {
   "cell_type": "markdown",
   "metadata": {},
   "source": [
    "### 1 Analysis Setup\n",
    "\n",
    "#### 1.0 Configurations\n",
    "In this section we will create a configuration file that stores your database name, location, password and what time period you want to run the analysis for.\n",
    "\n",
    "create a text file called 'settings' in your local directory in the following format:\n",
    "\n",
    "{'db_name': 'ttc20191121',\n",
    " 'db_username': 'postgres',\n",
    " 'db_password': 'db passwork',\n",
    " 'db_location': 'localhost',\n",
    " 'db_port': 5432,\n",
    " 'analysis_starttime': '2019-11-21 00:00',\n",
    " 'analysis_duration': 24}"
   ]
  },
  {
   "cell_type": "markdown",
   "metadata": {},
   "source": [
    "#### 1.1 Create and Populate Database\n",
    "\n",
    "Once you've set up the configuration, run the below to record the TTC data from the NextBus api and then prepare the data for the analysis.\n",
    "\n",
    "You can review XML feed documention here https://www.nextbus.com/xmlFeedDocs/NextBusXMLFeed.pdf.\n",
    "\n",
    "We will be looking at the Vehicle Location data feed -- this returns the postion of all of the active vehicles in the system -- we will query this feed every 30 seconds starting at the analysis start time entered above and continuing entered duration.  \n",
    "\n",
    "We will also be downloading the route list and route configurations.  The route list will return a list of all available routes, and route confguration will include detailed inforamtion about the route including stop locations, route paths, and different route variations.\n",
    "\n",
    "You can review the python code for downloading and loading into the postgres database in the project root folder or click to download: [download_data.py](download_data.py)\n",
    "\n",
    "\n"
   ]
  },
  {
   "cell_type": "code",
   "execution_count": 3,
   "metadata": {},
   "outputs": [],
   "source": [
    "#this downloads the data into the database\n",
    "%run helperfunctions\n",
    "%run download_data"
   ]
  },
  {
   "cell_type": "code",
   "execution_count": 5,
   "metadata": {},
   "outputs": [],
   "source": [
    "#this prepares the database\n",
    "f = open('db_calculations.sql', 'r')\n",
    "sql = f.read()\n",
    "execsql(sql, db_name)"
   ]
  },
  {
   "cell_type": "code",
   "execution_count": null,
   "metadata": {},
   "outputs": [],
   "source": []
  }
 ],
 "metadata": {
  "kernelspec": {
   "display_name": "Python 3",
   "language": "python",
   "name": "python3"
  },
  "language_info": {
   "codemirror_mode": {
    "name": "ipython",
    "version": 3
   },
   "file_extension": ".py",
   "mimetype": "text/x-python",
   "name": "python",
   "nbconvert_exporter": "python",
   "pygments_lexer": "ipython3",
   "version": "3.7.3"
  }
 },
 "nbformat": 4,
 "nbformat_minor": 2
}
