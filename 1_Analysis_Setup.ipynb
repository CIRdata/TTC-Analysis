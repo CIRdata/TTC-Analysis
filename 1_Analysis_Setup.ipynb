{
 "cells": [
  {
   "cell_type": "markdown",
   "metadata": {},
   "source": [
    "### 1 Analysis Setup\n",
    "\n",
    "#### 1.0 Configurations\n",
    "In this section we will create a configuration file that stores your database name, location, password and what time period you want to run the analysis for."
   ]
  },
  {
   "cell_type": "code",
   "execution_count": 1,
   "metadata": {},
   "outputs": [],
   "source": [
    "#Enter your database name here (use all lowercase):\n",
    "db_name = 'ttctestii'\n",
    "#Note if a database of this name already exists the script will delete and recreate the database\n",
    "\n",
    "#Enter your database username/password:\n",
    "db_username = 'postgres'\n",
    "db_password = 'enter pw here'\n",
    "\n",
    "#Enter your database location\n",
    "db_location = 'localhost'\n",
    "\n",
    "#Enter database port (typically 5432 for postgres)\n",
    "db_port = 5432\n",
    "\n",
    "#Enter what time you want to start recording data yyyy-mm-dd hh:mm\n",
    "analysis_starttime = '2019-11-15 20:05'\n",
    "\n",
    "#Enter how many hours you want to record data for\n",
    "analysis_duration = 1\n"
   ]
  },
  {
   "cell_type": "code",
   "execution_count": 2,
   "metadata": {},
   "outputs": [],
   "source": [
    "config_dict = {'db_name':db_name, 'db_username':db_username,'db_password':db_password,'db_location':db_location,'db_port':db_port,'analysis_starttime':analysis_starttime,'analysis_duration':analysis_duration}"
   ]
  },
  {
   "cell_type": "code",
   "execution_count": 3,
   "metadata": {},
   "outputs": [
    {
     "data": {
      "text/plain": [
       "{'db_name': 'ttctestii',\n",
       " 'db_username': 'postgres',\n",
       " 'db_password': '***REMOVED***',\n",
       " 'db_location': 'localhost',\n",
       " 'db_port': 5432,\n",
       " 'analysis_starttime': '2019-11-15 20:05',\n",
       " 'analysis_duration': 1}"
      ]
     },
     "execution_count": 3,
     "metadata": {},
     "output_type": "execute_result"
    }
   ],
   "source": [
    "f = open('settings','w')\n",
    "f.write(str(config_dict))\n",
    "f.close()\n",
    "\n",
    "f = open('settings', 'r')\n",
    "chk_config_str = f.read()\n",
    "f.close()\n",
    "\n",
    "from ast import literal_eval\n",
    "chk_config_dict = literal_eval(chk_config_str)\n",
    "\n",
    "chk_config_dict\n",
    "\n",
    "#check that the output of the saved settings is as expected:"
   ]
  },
  {
   "cell_type": "markdown",
   "metadata": {},
   "source": [
    "#### 1.1 Create and Populate Database\n",
    "\n",
    "Once you've set up the configuration, run the below to record the TTC data from the NextBus api and then prepare the data for the analysis.\n",
    "\n",
    "You can review XML feed documention here https://www.nextbus.com/xmlFeedDocs/NextBusXMLFeed.pdf.\n",
    "\n",
    "We will be looking at the Vehicle Location data feed -- this returns the postion of all of the active vehicles in the system -- we will query this feed every 30 seconds starting at the analysis start time entered above and continuing entered duration.  \n",
    "\n",
    "We will also be downloading the route list and route configurations.  The route list will return a list of all available routes, and route confguration will include detailed inforamtion about the route including stop locations, route paths, and different route variations.\n",
    "\n",
    "You can review the python code for downloading and loading into the postgres database in the project root folder or click to download: [download_data.py](download_data.py)\n",
    "\n",
    "\n"
   ]
  },
  {
   "cell_type": "code",
   "execution_count": 6,
   "metadata": {},
   "outputs": [
    {
     "name": "stdout",
     "output_type": "stream",
     "text": [
      "start time:  2019-11-15 20:05:00\n",
      "end time:  2019-11-15 21:05:00\n",
      "wait time:  106.499591\n",
      "downloading routes\n"
     ]
    }
   ],
   "source": [
    "#this downloads the data into the database\n",
    "%run helperfunctions\n",
    "%run download_data"
   ]
  },
  {
   "cell_type": "code",
   "execution_count": 15,
   "metadata": {},
   "outputs": [],
   "source": [
    "#this prepares the database\n",
    "f = open('db_calculations.sql', 'r')\n",
    "sql = f.read()\n",
    "execsql(sql, db_name)"
   ]
  }
 ],
 "metadata": {
  "kernelspec": {
   "display_name": "Python 3",
   "language": "python",
   "name": "python3"
  },
  "language_info": {
   "codemirror_mode": {
    "name": "ipython",
    "version": 3
   },
   "file_extension": ".py",
   "mimetype": "text/x-python",
   "name": "python",
   "nbconvert_exporter": "python",
   "pygments_lexer": "ipython3",
   "version": "3.7.3"
  }
 },
 "nbformat": 4,
 "nbformat_minor": 2
}
